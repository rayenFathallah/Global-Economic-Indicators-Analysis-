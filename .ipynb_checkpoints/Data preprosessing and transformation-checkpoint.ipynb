{
 "cells": [
  {
   "cell_type": "code",
   "execution_count": null,
   "id": "cc3c924a",
   "metadata": {},
   "outputs": [],
   "source": [
    "import pandas as pd \n",
    "import seaborn as sns \n",
    "import matplotlib.pyplot as plt \n",
    "import numpy as np "
   ]
  },
  {
   "cell_type": "code",
   "execution_count": null,
   "id": "73deac6a",
   "metadata": {},
   "outputs": [],
   "source": [
    "CPI_data = pd.read_csv('CPI-monthly.csv')\n",
    "ER_data= pd.read_csv('Exchange rate Monthly.csv')\n",
    "Exports_data=pd.read_csv('Exports Merchandise Monthly.csv')"
   ]
  },
  {
   "cell_type": "code",
   "execution_count": null,
   "id": "35c7c477",
   "metadata": {},
   "outputs": [],
   "source": [
    "pd.set_option('display.max_columns', None)\n",
    "CPI_data"
   ]
  },
  {
   "cell_type": "code",
   "execution_count": null,
   "id": "03ec8c99",
   "metadata": {
    "scrolled": true
   },
   "outputs": [],
   "source": [
    "ER_data"
   ]
  },
  {
   "cell_type": "code",
   "execution_count": null,
   "id": "38b85f9e",
   "metadata": {
    "scrolled": true
   },
   "outputs": [],
   "source": [
    "Exports_data"
   ]
  },
  {
   "cell_type": "markdown",
   "id": "ae069dc5",
   "metadata": {},
   "source": [
    "### Correct the names of the countries "
   ]
  },
  {
   "cell_type": "code",
   "execution_count": null,
   "id": "661b8c38",
   "metadata": {},
   "outputs": [],
   "source": [
    "#rename countries \n",
    "new_columns=str()\n",
    "for country in ER_data.columns : \n",
    "    if '0' in country : \n",
    "        new_column = country.replace('0','na')\n",
    "        ER_data.rename(columns = {country:new_column}, inplace = True)\n"
   ]
  },
  {
   "cell_type": "code",
   "execution_count": null,
   "id": "f81ba6db",
   "metadata": {},
   "outputs": [],
   "source": [
    "ER_data"
   ]
  },
  {
   "cell_type": "code",
   "execution_count": null,
   "id": "ee4c7c5c",
   "metadata": {},
   "outputs": [],
   "source": [
    "ER_data.rename(columns = {'Period':'Year'}, inplace = True)"
   ]
  },
  {
   "cell_type": "code",
   "execution_count": null,
   "id": "0ac00742",
   "metadata": {},
   "outputs": [],
   "source": [
    "Exports_data=Exports_data.fillna(0)\n",
    "ER_data=ER_data.fillna(0)\n",
    "CPI_data=CPI_data.fillna(0)"
   ]
  },
  {
   "cell_type": "markdown",
   "id": "86154397",
   "metadata": {},
   "source": [
    "### Add missing countries"
   ]
  },
  {
   "cell_type": "code",
   "execution_count": null,
   "id": "e13b62ec",
   "metadata": {},
   "outputs": [],
   "source": [
    "CPI_columns = set(CPI_data.columns)\n",
    "ER_columns= set(ER_data.columns)\n",
    "Exports_columns=set(Exports_data.columns)\n",
    "not_inCPI = list(ER_columns.union(Exports_columns) - CPI_columns)\n",
    "not_inER = list(CPI_columns.union(Exports_columns) - ER_columns)\n",
    "not_inExports = list(CPI_columns.union(ER_columns) - Exports_columns)"
   ]
  },
  {
   "cell_type": "code",
   "execution_count": null,
   "id": "2345a954",
   "metadata": {
    "scrolled": true
   },
   "outputs": [],
   "source": [
    "CPI_data[not_inCPI]=0\n",
    "ER_data[not_inER]=0\n",
    "Exports_data[not_inExports]=0"
   ]
  },
  {
   "cell_type": "code",
   "execution_count": null,
   "id": "256af103",
   "metadata": {},
   "outputs": [],
   "source": [
    "ER_data['Year']"
   ]
  },
  {
   "cell_type": "markdown",
   "id": "7a9fadb2",
   "metadata": {},
   "source": [
    "### Adding missing dates  "
   ]
  },
  {
   "cell_type": "code",
   "execution_count": null,
   "id": "7e11ac96",
   "metadata": {
    "scrolled": false
   },
   "outputs": [],
   "source": [
    "CPI_dates=set(CPI_data['Year'].values)\n",
    "ER_dates=set(ER_data['Period'].values)\n",
    "Exports_dates=set(Exports_data['Year'].values)\n",
    "Dates_notInCPI= list(ER_dates.union(Exports_dates) - CPI_dates)\n",
    "Dates_notInER= list(CPI_dates.union(Exports_dates) - ER_dates)\n",
    "Dates_notInExports= list(ER_dates.union(CPI_dates) - Exports_dates)"
   ]
  },
  {
   "cell_type": "code",
   "execution_count": null,
   "id": "36960981",
   "metadata": {},
   "outputs": [],
   "source": [
    "additional_dataframe = pd.DataFrame(columns=Exports_data.columns)\n",
    "additional_dataframe['Year']=Dates_notInExports \n",
    "Exports_cols=[col for col in Exports_data.columns if col!=\"Year\"]\n",
    "additional_dataframe[Exports_cols]=0\n",
    "Exports_data=pd.concat([additional_dataframe,Exports_data])"
   ]
  },
  {
   "cell_type": "code",
   "execution_count": null,
   "id": "b3dc003c",
   "metadata": {},
   "outputs": [],
   "source": [
    "Exports_data.shape"
   ]
  },
  {
   "cell_type": "code",
   "execution_count": null,
   "id": "5da7e589",
   "metadata": {
    "scrolled": true
   },
   "outputs": [],
   "source": [
    "CPI_data.shape"
   ]
  },
  {
   "cell_type": "code",
   "execution_count": null,
   "id": "bbdebae1",
   "metadata": {},
   "outputs": [],
   "source": [
    "ER_data.shape"
   ]
  },
  {
   "cell_type": "markdown",
   "id": "2aa8cbe6",
   "metadata": {},
   "source": [
    "### Reformat Dataframes "
   ]
  },
  {
   "cell_type": "code",
   "execution_count": null,
   "id": "c02d8b1b",
   "metadata": {},
   "outputs": [],
   "source": [
    "countries=[country for country in CPI_data if country!='Year']\n",
    "CPI_data_formatted = CPI_data.melt(id_vars='Year', value_vars=countries, var_name='Country', value_name='CPI_score')\n",
    "countries2=[country for country in ER_data if country!='Period']\n",
    "ER_data_formatted = ER_data.melt(id_vars='Period', value_vars=countries2, var_name='Country', value_name='ER')\n",
    "countries3=[country for country in Exports_data if country!='Year']\n",
    "Exports_data_formatted = Exports_data.melt(id_vars='Year', value_vars=countries3, var_name='Country', value_name='ER')\n"
   ]
  },
  {
   "cell_type": "code",
   "execution_count": null,
   "id": "54000e6c",
   "metadata": {},
   "outputs": [],
   "source": [
    "Exports_data_formatted.shape"
   ]
  },
  {
   "cell_type": "code",
   "execution_count": null,
   "id": "7054e089",
   "metadata": {},
   "outputs": [],
   "source": [
    "ER_data_formatted.shape"
   ]
  },
  {
   "cell_type": "code",
   "execution_count": null,
   "id": "f3932d1f",
   "metadata": {},
   "outputs": [],
   "source": [
    "CPI_data_formatted.shape"
   ]
  },
  {
   "cell_type": "markdown",
   "id": "1ac6b18e",
   "metadata": {},
   "source": [
    "### Datetime format "
   ]
  },
  {
   "cell_type": "code",
   "execution_count": null,
   "id": "217c03ad",
   "metadata": {},
   "outputs": [],
   "source": [
    "CPI_data_formatted.rename(columns = {'Year':'Date'}, inplace = True)\n",
    "ER_data_formatted.rename(columns = {'Year':'Date'}, inplace = True)\n",
    "Exports_data_formatted.rename(columns = {'Year':'Date'}, inplace = True)\n",
    "CPI_data_formatted['Date']=pd.to_datetime(CPI_data_formatted['Date'], format='%YM%m')\n",
    "ER_data_formatted['Date']=pd.to_datetime(ER_data_formatted['Date'], format='%YM%m')\n",
    "Exports_data_formatted['Date']=pd.to_datetime(Exports_data_formatted['Date'], format='%YM%m')\n"
   ]
  }
 ],
 "metadata": {
  "kernelspec": {
   "display_name": "Python 3 (ipykernel)",
   "language": "python",
   "name": "python3"
  },
  "language_info": {
   "codemirror_mode": {
    "name": "ipython",
    "version": 3
   },
   "file_extension": ".py",
   "mimetype": "text/x-python",
   "name": "python",
   "nbconvert_exporter": "python",
   "pygments_lexer": "ipython3",
   "version": "3.10.10"
  }
 },
 "nbformat": 4,
 "nbformat_minor": 5
}
