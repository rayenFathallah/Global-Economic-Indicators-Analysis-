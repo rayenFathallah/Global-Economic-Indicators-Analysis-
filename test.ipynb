{
 "cells": [
  {
   "cell_type": "code",
   "execution_count": 3,
   "id": "0e7c4969",
   "metadata": {},
   "outputs": [],
   "source": [
    "import pandas as pd "
   ]
  },
  {
   "cell_type": "code",
   "execution_count": null,
   "id": "6b4ecd65",
   "metadata": {},
   "outputs": [],
   "source": []
  },
  {
   "cell_type": "code",
   "execution_count": 8,
   "id": "311649a7",
   "metadata": {},
   "outputs": [],
   "source": [
    "df = pd.DataFrame(columns=['Date', 'Australia'])\n",
    "\n",
    "# add the two rows to the dataframe\n",
    "df.loc[len(df)] = ['2025-12-01', 0.0]\n",
    "df.loc[len(df)] = ['2025-01-01', 0.0]\n",
    "\n",
    "# set the 'Australia' column values for the two rows\n",
    "df.loc[df['Date'] == '2025-12-01', 'Australia'] = 17116.58\n",
    "df.loc[df['Date'] == '2025-01-01', 'Australia'] = 13787.12"
   ]
  },
  {
   "cell_type": "code",
   "execution_count": 10,
   "id": "264ffff0",
   "metadata": {},
   "outputs": [
    {
     "data": {
      "text/html": [
       "<div>\n",
       "<style scoped>\n",
       "    .dataframe tbody tr th:only-of-type {\n",
       "        vertical-align: middle;\n",
       "    }\n",
       "\n",
       "    .dataframe tbody tr th {\n",
       "        vertical-align: top;\n",
       "    }\n",
       "\n",
       "    .dataframe thead th {\n",
       "        text-align: right;\n",
       "    }\n",
       "</style>\n",
       "<table border=\"1\" class=\"dataframe\">\n",
       "  <thead>\n",
       "    <tr style=\"text-align: right;\">\n",
       "      <th></th>\n",
       "      <th>Date</th>\n",
       "      <th>Australia</th>\n",
       "    </tr>\n",
       "  </thead>\n",
       "  <tbody>\n",
       "    <tr>\n",
       "      <th>0</th>\n",
       "      <td>2025-12-01</td>\n",
       "      <td>17116.58</td>\n",
       "    </tr>\n",
       "    <tr>\n",
       "      <th>1</th>\n",
       "      <td>2025-01-01</td>\n",
       "      <td>13787.12</td>\n",
       "    </tr>\n",
       "  </tbody>\n",
       "</table>\n",
       "</div>"
      ],
      "text/plain": [
       "         Date  Australia\n",
       "0  2025-12-01   17116.58\n",
       "1  2025-01-01   13787.12"
      ]
     },
     "execution_count": 10,
     "metadata": {},
     "output_type": "execute_result"
    }
   ],
   "source": [
    "df"
   ]
  },
  {
   "cell_type": "code",
   "execution_count": 13,
   "id": "ce172224",
   "metadata": {},
   "outputs": [],
   "source": [
    "df.to_csv('File_to_add.csv',index=False)"
   ]
  },
  {
   "cell_type": "code",
   "execution_count": 3,
   "id": "c47983fb",
   "metadata": {},
   "outputs": [],
   "source": [
    "import sys\n",
    "from src.logger import logging\n",
    "\n",
    "def error_message_detail(error,error_detail:sys):\n",
    "    _,_,exc_tb=error_detail.exc_info()\n",
    "    file_name=exc_tb.tb_frame.f_code.co_filename\n",
    "    error_message=\"Error occured in python script name [{0}] line number [{1}] error message[{2}]\".format(\n",
    "     file_name,exc_tb.tb_lineno,str(error))\n",
    "\n",
    "    return error_message\n",
    "\n",
    "    \n",
    "\n",
    "class CustomException(Exception):\n",
    "    def __init__(self,error_message,error_detail:sys):\n",
    "        super().__init__(error_message)\n",
    "        self.error_message=error_message_detail(error_message,error_detail=error_detail)\n",
    "    \n",
    "    def __str__(self):\n",
    "        return self.error_message"
   ]
  },
  {
   "cell_type": "code",
   "execution_count": 7,
   "id": "9f2646c6",
   "metadata": {},
   "outputs": [],
   "source": [
    "transformed_CPI = pd.read_csv('Transformed_data/CPI_transformed.csv')\n",
    "transformed_ER = pd.read_csv('Transformed_data/ER_transformed.csv')\n",
    "transformed_Exports = pd.read_csv('Transformed_data/Exports_transformed.csv')"
   ]
  },
  {
   "cell_type": "code",
   "execution_count": 21,
   "id": "2bdd9ef8",
   "metadata": {},
   "outputs": [
    {
     "data": {
      "text/plain": [
       "(215,)"
      ]
     },
     "execution_count": 21,
     "metadata": {},
     "output_type": "execute_result"
    }
   ],
   "source": [
    "transformed_Exports.Country.unique().shape"
   ]
  },
  {
   "cell_type": "code",
   "execution_count": 20,
   "id": "1ceceb6b",
   "metadata": {},
   "outputs": [
    {
     "data": {
      "text/plain": [
       "(215,)"
      ]
     },
     "execution_count": 20,
     "metadata": {},
     "output_type": "execute_result"
    }
   ],
   "source": [
    "transformed_CPI.Country.unique().shape"
   ]
  },
  {
   "cell_type": "code",
   "execution_count": 22,
   "id": "dc8a07bf",
   "metadata": {},
   "outputs": [
    {
     "data": {
      "text/plain": [
       "(217,)"
      ]
     },
     "execution_count": 22,
     "metadata": {},
     "output_type": "execute_result"
    }
   ],
   "source": [
    "transformed_ER.Country.unique().shape"
   ]
  },
  {
   "cell_type": "code",
   "execution_count": null,
   "id": "c4a4d97f",
   "metadata": {},
   "outputs": [],
   "source": []
  },
  {
   "cell_type": "code",
   "execution_count": 4,
   "id": "2f3d2918",
   "metadata": {},
   "outputs": [],
   "source": [
    "CPI_data = pd.read_csv('Monthly_data/CPI-monthly.csv')\n",
    "ER_data = pd.read_csv('Monthly_data/ER.csv')\n",
    "Exports_data = pd.read_csv('Monthly_data/Exports.csv')"
   ]
  },
  {
   "cell_type": "code",
   "execution_count": 26,
   "id": "ab95998b",
   "metadata": {},
   "outputs": [
    {
     "data": {
      "text/plain": [
       "(360, 173)"
      ]
     },
     "execution_count": 26,
     "metadata": {},
     "output_type": "execute_result"
    }
   ],
   "source": [
    "CPI_data.shape"
   ]
  },
  {
   "cell_type": "code",
   "execution_count": 27,
   "id": "2eeb8951",
   "metadata": {},
   "outputs": [
    {
     "data": {
      "text/plain": [
       "(360, 201)"
      ]
     },
     "execution_count": 27,
     "metadata": {},
     "output_type": "execute_result"
    }
   ],
   "source": [
    "ER_data.shape"
   ]
  },
  {
   "cell_type": "code",
   "execution_count": 28,
   "id": "9caed77e",
   "metadata": {},
   "outputs": [
    {
     "data": {
      "text/plain": [
       "(333, 55)"
      ]
     },
     "execution_count": 28,
     "metadata": {},
     "output_type": "execute_result"
    }
   ],
   "source": [
    "Exports_data.shape"
   ]
  },
  {
   "cell_type": "code",
   "execution_count": 5,
   "id": "60da2a56",
   "metadata": {},
   "outputs": [],
   "source": [
    "def rename_columns(df):\n",
    "    try : \n",
    "    ### Some countries have 0 In place of na so it has to be corrected\n",
    "        new_columns = []\n",
    "        for column in df.columns:\n",
    "            if '0' in column:\n",
    "                new_column = column.replace('0', 'na')\n",
    "                new_columns.append(new_column)\n",
    "            else:\n",
    "                new_columns.append(column)\n",
    "        df.columns = new_columns\n",
    "    except:\n",
    "        raise CustomException('Error while renaming the countries in rename_columns() function')\n",
    "    return df "
   ]
  },
  {
   "cell_type": "code",
   "execution_count": 6,
   "id": "cc590e4f",
   "metadata": {},
   "outputs": [],
   "source": [
    "def fill_missing_values(df):\n",
    "    try :  \n",
    "    \n",
    "        df.fillna(0, inplace=True)\n",
    "    except:\n",
    "        raise CustomException('Error while filling the missing values in fill_missing_values() function')\n"
   ]
  },
  {
   "cell_type": "code",
   "execution_count": 15,
   "id": "2af42d86",
   "metadata": {},
   "outputs": [],
   "source": [
    "\n",
    "def add_missing_countries(df, reference_df1,reference_df2):\n",
    "    \n",
    "# Add missing countries for each dataframe \n",
    "    try : \n",
    "        columns = set(df.columns)\n",
    "        reference1_columns = set(reference_df1.columns)\n",
    "        reference2_columns = set(reference_df2.columns)\n",
    "        not_in_df = list(reference1_columns.union(reference2_columns) - columns)\n",
    "        df[not_in_df] = 0\n",
    "    except:\n",
    "        raise CustomException('Error while adding the missing countries in add_missing_countries() function')\n",
    "    return df \n",
    "        "
   ]
  },
  {
   "cell_type": "code",
   "execution_count": 34,
   "id": "cf88aae1",
   "metadata": {},
   "outputs": [],
   "source": [
    "CPI_data = rename_columns(CPI_data)\n",
    "ER_data = rename_columns(ER_data)\n",
    "Exports_data = rename_columns(Exports_data)\n",
    "fill_missing_values(CPI_data)\n",
    "fill_missing_values(ER_data)\n",
    "fill_missing_values(Exports_data)\n",
    "added_count_CPI=add_missing_countries(CPI_data,ER_data,Exports_data)\n",
    "added_count_ER=add_missing_countries(ER_data,CPI_data,Exports_data)\n",
    "added_count_Exports=add_missing_countries(Exports_data,CPI_data,ER_data)"
   ]
  },
  {
   "cell_type": "code",
   "execution_count": 36,
   "id": "8fd74faf",
   "metadata": {},
   "outputs": [
    {
     "data": {
      "text/plain": [
       "(333, 202)"
      ]
     },
     "execution_count": 36,
     "metadata": {},
     "output_type": "execute_result"
    }
   ],
   "source": [
    "added_count_Exports.shape"
   ]
  },
  {
   "cell_type": "code",
   "execution_count": 38,
   "id": "5324e244",
   "metadata": {},
   "outputs": [
    {
     "data": {
      "text/plain": [
       "(360, 202)"
      ]
     },
     "execution_count": 38,
     "metadata": {},
     "output_type": "execute_result"
    }
   ],
   "source": [
    "added_count_CPI.shape"
   ]
  },
  {
   "cell_type": "code",
   "execution_count": 39,
   "id": "0e6ebefa",
   "metadata": {},
   "outputs": [
    {
     "data": {
      "text/plain": [
       "(360, 202)"
      ]
     },
     "execution_count": 39,
     "metadata": {},
     "output_type": "execute_result"
    }
   ],
   "source": [
    "added_count_ER.shape"
   ]
  },
  {
   "cell_type": "code",
   "execution_count": 16,
   "id": "5ef639a1",
   "metadata": {},
   "outputs": [
    {
     "name": "stdout",
     "output_type": "stream",
     "text": [
      "None\n"
     ]
    }
   ],
   "source": []
  },
  {
   "cell_type": "code",
   "execution_count": null,
   "id": "51d05c7c",
   "metadata": {},
   "outputs": [],
   "source": [
    "def add_missing_dates(df, reference_df1,reference_df2):\n",
    "# Add missing Dates for each dataframe\n",
    "    try : \n",
    "        dates = set(df['Year'].values)\n",
    "        if(reference_df1.empty==False): \n",
    "            reference1_dates = set(reference_df1['Year'].values)\n",
    "        else : \n",
    "            reference1_dates=set()\n",
    "        if(reference_df2.empty==False): \n",
    "            reference2_dates = set(reference_df2['Year'].values) \n",
    "        else : \n",
    "            reference2_dates=set()  \n",
    "        dates_not_in_df = list(reference1_dates.union(reference2_dates) - dates)\n",
    "        additional_dataframe = pd.DataFrame(columns=df.columns)\n",
    "        additional_dataframe['Year'] = dates_not_in_df\n",
    "        columns = [col for col in df.columns if col != \"Year\"]\n",
    "        additional_dataframe[columns] = 0\n",
    "        df = pd.concat([additional_dataframe, df])\n",
    "        return df\n",
    "    except : \n",
    "        raise CustomException('Error while adding the missing dates in add_missing_dates() function')"
   ]
  },
  {
   "cell_type": "code",
   "execution_count": null,
   "id": "c295ac8d",
   "metadata": {},
   "outputs": [],
   "source": [
    "def reformat_dataframe(df, name):\n",
    "# Change the format of the data from country names as columns to values \n",
    "    try : \n",
    "        countries = [country for country in df if country != 'Year']\n",
    "        formatted_df = df.melt(id_vars='Year', value_vars=countries, var_name='Country', value_name=name)\n",
    "        formatted_df.rename(columns={'Year': 'Date'}, inplace=True)\n",
    "        formatted_df['Date'] = pd.to_datetime(formatted_df['Date'], format='%YM%m')\n",
    "        return formatted_df\n",
    "    except:\n",
    "        raise CustomException('Error while reformatting the dataframes in reformat_dataframe() function')\n"
   ]
  },
  {
   "cell_type": "code",
   "execution_count": null,
   "id": "a107a2f2",
   "metadata": {},
   "outputs": [],
   "source": [
    "def format_date(dataframe):\n",
    "    # Rename the 'Year' column to 'Date'\n",
    "    try : \n",
    "        dataframe.rename(columns={'Year': 'Date'}, inplace=True)\n",
    "        \n",
    "        # Convert the 'Date' column to a pandas DateTime object\n",
    "        dataframe['Date'] = pd.to_datetime(dataframe['Date'], format='%YM%m')\n",
    "    except:\n",
    "        raise CustomException('Error while reformatting the dates in format_date() function')\n",
    "\n"
   ]
  },
  {
   "cell_type": "code",
   "execution_count": 41,
   "id": "26ad1cd1",
   "metadata": {},
   "outputs": [],
   "source": [
    "def transform(df1,df2,df3,name): \n",
    "    try : \n",
    "        rename_columns(df1) \n",
    "        fill_missing_values(df1)\n",
    "        new_df1=add_missing_countries(df1,df2,df3)\n",
    "        new_df1=add_missing_dates(df1,df2,df3)\n",
    "        formatted_df=reformat_dataframe(new_df1,name)\n",
    "        format_date(formatted_df)\n",
    "        logging.info('Data is transformed')\n",
    "        return formatted_df\n",
    "    except :\n",
    "        logging.error('Transformation error') \n",
    "        raise CustomException('Error while transforming the data')\n"
   ]
  },
  {
   "cell_type": "code",
   "execution_count": 24,
   "id": "a6d32e78",
   "metadata": {},
   "outputs": [
    {
     "ename": "NameError",
     "evalue": "name 'transform' is not defined",
     "output_type": "error",
     "traceback": [
      "\u001b[1;31m---------------------------------------------------------------------------\u001b[0m",
      "\u001b[1;31mNameError\u001b[0m                                 Traceback (most recent call last)",
      "\u001b[1;32m~\\AppData\\Local\\Temp\\ipykernel_5160\\1372296718.py\u001b[0m in \u001b[0;36m<module>\u001b[1;34m\u001b[0m\n\u001b[1;32m----> 1\u001b[1;33m \u001b[0mformatted_CPI\u001b[0m \u001b[1;33m=\u001b[0m \u001b[0mtransform\u001b[0m\u001b[1;33m(\u001b[0m\u001b[0mCPI_data\u001b[0m\u001b[1;33m,\u001b[0m\u001b[0mER_data\u001b[0m\u001b[1;33m,\u001b[0m\u001b[0mExports_data\u001b[0m\u001b[1;33m,\u001b[0m\u001b[1;34m'CPI'\u001b[0m\u001b[1;33m)\u001b[0m\u001b[1;33m\u001b[0m\u001b[1;33m\u001b[0m\u001b[0m\n\u001b[0m\u001b[0;32m      2\u001b[0m \u001b[0mformatted_ER\u001b[0m \u001b[1;33m=\u001b[0m \u001b[0mtransform\u001b[0m\u001b[1;33m(\u001b[0m\u001b[0mER_data\u001b[0m\u001b[1;33m,\u001b[0m\u001b[0mCPI_data\u001b[0m\u001b[1;33m,\u001b[0m\u001b[0mExports_data\u001b[0m\u001b[1;33m,\u001b[0m\u001b[1;34m'ER'\u001b[0m\u001b[1;33m)\u001b[0m\u001b[1;33m\u001b[0m\u001b[1;33m\u001b[0m\u001b[0m\n\u001b[0;32m      3\u001b[0m \u001b[0mformatted_Exports\u001b[0m \u001b[1;33m=\u001b[0m \u001b[0mtransform\u001b[0m\u001b[1;33m(\u001b[0m\u001b[0mExports_data\u001b[0m\u001b[1;33m,\u001b[0m\u001b[0mCPI_data\u001b[0m\u001b[1;33m,\u001b[0m\u001b[0mExports_data\u001b[0m\u001b[1;33m,\u001b[0m\u001b[1;34m'Exports'\u001b[0m\u001b[1;33m)\u001b[0m\u001b[1;33m\u001b[0m\u001b[1;33m\u001b[0m\u001b[0m\n",
      "\u001b[1;31mNameError\u001b[0m: name 'transform' is not defined"
     ]
    }
   ],
   "source": [
    "formatted_CPI = transform(CPI_data,ER_data,Exports_data,'CPI')\n",
    "formatted_ER = transform(ER_data,CPI_data,Exports_data,'ER')\n",
    "formatted_Exports = transform(Exports_data,CPI_data,Exports_data,'Exports')"
   ]
  },
  {
   "cell_type": "code",
   "execution_count": null,
   "id": "866059e1",
   "metadata": {},
   "outputs": [],
   "source": [
    "formatted_Exports.Date.unique().shape"
   ]
  },
  {
   "cell_type": "code",
   "execution_count": null,
   "id": "534a3e0f",
   "metadata": {},
   "outputs": [],
   "source": [
    "formatted_Exports.Country.unique().shape"
   ]
  },
  {
   "cell_type": "code",
   "execution_count": null,
   "id": "4f3e9b3c",
   "metadata": {},
   "outputs": [],
   "source": [
    "formatted_CPI.Date.unique().shape"
   ]
  },
  {
   "cell_type": "code",
   "execution_count": null,
   "id": "425b6022",
   "metadata": {},
   "outputs": [],
   "source": [
    "formatted_ER.Date.unique().shape"
   ]
  },
  {
   "cell_type": "code",
   "execution_count": null,
   "id": "8434eb5c",
   "metadata": {},
   "outputs": [],
   "source": [
    "formatted_ER.Country.unique().shape"
   ]
  },
  {
   "cell_type": "code",
   "execution_count": 7,
   "id": "4d3f11fd",
   "metadata": {},
   "outputs": [],
   "source": [
    "ER_data = rename_columns(ER_data)"
   ]
  },
  {
   "cell_type": "code",
   "execution_count": 10,
   "id": "f61a1e46",
   "metadata": {},
   "outputs": [
    {
     "data": {
      "text/plain": [
       "0      0.000000\n",
       "1      0.000000\n",
       "2      0.000000\n",
       "3      0.000000\n",
       "4      0.000000\n",
       "         ...   \n",
       "355    1.681886\n",
       "356    1.703457\n",
       "357    1.686150\n",
       "358    1.705174\n",
       "359    1.722000\n",
       "Name: Bosnia and Herzegovina, Length: 360, dtype: float64"
      ]
     },
     "execution_count": 10,
     "metadata": {},
     "output_type": "execute_result"
    }
   ],
   "source": []
  },
  {
   "cell_type": "code",
   "execution_count": null,
   "id": "fcd7c030",
   "metadata": {},
   "outputs": [],
   "source": [
    "formatted_CPI.Country.unique().shape"
   ]
  }
 ],
 "metadata": {
  "kernelspec": {
   "display_name": "Python 3 (ipykernel)",
   "language": "python",
   "name": "python3"
  },
  "language_info": {
   "codemirror_mode": {
    "name": "ipython",
    "version": 3
   },
   "file_extension": ".py",
   "mimetype": "text/x-python",
   "name": "python",
   "nbconvert_exporter": "python",
   "pygments_lexer": "ipython3",
   "version": "3.9.13"
  }
 },
 "nbformat": 4,
 "nbformat_minor": 5
}
